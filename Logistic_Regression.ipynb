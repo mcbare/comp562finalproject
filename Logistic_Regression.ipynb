{
  "cells": [
    {
      "cell_type": "markdown",
      "id": "d18e4646",
      "metadata": {
        "id": "d18e4646"
      },
      "source": [
        "# Logistic Regression"
      ]
    },
    {
      "cell_type": "markdown",
      "id": "adfaafd9",
      "metadata": {
        "id": "adfaafd9"
      },
      "source": [
        "## Library"
      ]
    },
    {
      "cell_type": "code",
      "execution_count": null,
      "id": "227b909f",
      "metadata": {
        "id": "227b909f"
      },
      "outputs": [],
      "source": [
        "#import the relevant libraries\n",
        "import numpy as np\n",
        "import matplotlib.pyplot as plt\n",
        "import pandas as pd\n",
        "import seaborn as sns\n",
        "from sklearn.linear_model import LogisticRegression\n",
        "from sklearn.model_selection import train_test_split\n",
        "from sklearn.metrics import confusion_matrix, accuracy_score\n",
        "%matplotlib inline"
      ]
    },
    {
      "cell_type": "markdown",
      "id": "aedc886f",
      "metadata": {
        "id": "aedc886f"
      },
      "source": [
        "## Data"
      ]
    },
    {
      "cell_type": "code",
      "execution_count": null,
      "id": "d66e4640",
      "metadata": {
        "id": "d66e4640",
        "outputId": "5236b955-76c3-4b1d-98c6-3070601b0ff5"
      },
      "outputs": [
        {
          "data": {
            "text/html": [
              "<div>\n",
              "<style scoped>\n",
              "    .dataframe tbody tr th:only-of-type {\n",
              "        vertical-align: middle;\n",
              "    }\n",
              "\n",
              "    .dataframe tbody tr th {\n",
              "        vertical-align: top;\n",
              "    }\n",
              "\n",
              "    .dataframe thead th {\n",
              "        text-align: right;\n",
              "    }\n",
              "</style>\n",
              "<table border=\"1\" class=\"dataframe\">\n",
              "  <thead>\n",
              "    <tr style=\"text-align: right;\">\n",
              "      <th></th>\n",
              "      <th>TMB_NONSYNONYMOUS</th>\n",
              "      <th>PIK3CA</th>\n",
              "      <th>BARD1</th>\n",
              "      <th>MAP3K13</th>\n",
              "      <th>NOTCH4</th>\n",
              "      <th>TP53</th>\n",
              "      <th>EZH2</th>\n",
              "      <th>MDM2</th>\n",
              "      <th>IGF1R</th>\n",
              "      <th>KEAP1</th>\n",
              "      <th>...</th>\n",
              "      <th>PPARG</th>\n",
              "      <th>MSI2</th>\n",
              "      <th>DUSP4</th>\n",
              "      <th>RRAS2</th>\n",
              "      <th>ERF</th>\n",
              "      <th>HLA-B</th>\n",
              "      <th>RECQL</th>\n",
              "      <th>SESN1</th>\n",
              "      <th>NTHL1</th>\n",
              "      <th>RRAS</th>\n",
              "    </tr>\n",
              "  </thead>\n",
              "  <tbody>\n",
              "    <tr>\n",
              "      <th>count</th>\n",
              "      <td>1661.000000</td>\n",
              "      <td>1661.000000</td>\n",
              "      <td>1661.000000</td>\n",
              "      <td>1661.000000</td>\n",
              "      <td>1661.000000</td>\n",
              "      <td>1661.000000</td>\n",
              "      <td>1661.000000</td>\n",
              "      <td>1661.000000</td>\n",
              "      <td>1661.000000</td>\n",
              "      <td>1661.000000</td>\n",
              "      <td>...</td>\n",
              "      <td>1661.000000</td>\n",
              "      <td>1661.000000</td>\n",
              "      <td>1661.000000</td>\n",
              "      <td>1661.000000</td>\n",
              "      <td>1661.000000</td>\n",
              "      <td>1661.000000</td>\n",
              "      <td>1661.000000</td>\n",
              "      <td>1661.000000</td>\n",
              "      <td>1661.000000</td>\n",
              "      <td>1661.000000</td>\n",
              "    </tr>\n",
              "    <tr>\n",
              "      <th>mean</th>\n",
              "      <td>11.562370</td>\n",
              "      <td>0.120409</td>\n",
              "      <td>0.013847</td>\n",
              "      <td>0.026490</td>\n",
              "      <td>0.067429</td>\n",
              "      <td>0.444311</td>\n",
              "      <td>0.024082</td>\n",
              "      <td>0.007827</td>\n",
              "      <td>0.037929</td>\n",
              "      <td>0.059001</td>\n",
              "      <td>...</td>\n",
              "      <td>0.008429</td>\n",
              "      <td>0.002408</td>\n",
              "      <td>0.001806</td>\n",
              "      <td>0.001204</td>\n",
              "      <td>0.003612</td>\n",
              "      <td>0.004214</td>\n",
              "      <td>0.003612</td>\n",
              "      <td>0.001204</td>\n",
              "      <td>0.001806</td>\n",
              "      <td>0.000602</td>\n",
              "    </tr>\n",
              "    <tr>\n",
              "      <th>std</th>\n",
              "      <td>18.369198</td>\n",
              "      <td>0.325538</td>\n",
              "      <td>0.116891</td>\n",
              "      <td>0.160636</td>\n",
              "      <td>0.250839</td>\n",
              "      <td>0.497039</td>\n",
              "      <td>0.153350</td>\n",
              "      <td>0.088148</td>\n",
              "      <td>0.191082</td>\n",
              "      <td>0.235697</td>\n",
              "      <td>...</td>\n",
              "      <td>0.091448</td>\n",
              "      <td>0.049029</td>\n",
              "      <td>0.042473</td>\n",
              "      <td>0.034690</td>\n",
              "      <td>0.060012</td>\n",
              "      <td>0.064800</td>\n",
              "      <td>0.060012</td>\n",
              "      <td>0.034690</td>\n",
              "      <td>0.042473</td>\n",
              "      <td>0.024537</td>\n",
              "    </tr>\n",
              "    <tr>\n",
              "      <th>min</th>\n",
              "      <td>0.000000</td>\n",
              "      <td>0.000000</td>\n",
              "      <td>0.000000</td>\n",
              "      <td>0.000000</td>\n",
              "      <td>0.000000</td>\n",
              "      <td>0.000000</td>\n",
              "      <td>0.000000</td>\n",
              "      <td>0.000000</td>\n",
              "      <td>0.000000</td>\n",
              "      <td>0.000000</td>\n",
              "      <td>...</td>\n",
              "      <td>0.000000</td>\n",
              "      <td>0.000000</td>\n",
              "      <td>0.000000</td>\n",
              "      <td>0.000000</td>\n",
              "      <td>0.000000</td>\n",
              "      <td>0.000000</td>\n",
              "      <td>0.000000</td>\n",
              "      <td>0.000000</td>\n",
              "      <td>0.000000</td>\n",
              "      <td>0.000000</td>\n",
              "    </tr>\n",
              "    <tr>\n",
              "      <th>25%</th>\n",
              "      <td>2.936159</td>\n",
              "      <td>0.000000</td>\n",
              "      <td>0.000000</td>\n",
              "      <td>0.000000</td>\n",
              "      <td>0.000000</td>\n",
              "      <td>0.000000</td>\n",
              "      <td>0.000000</td>\n",
              "      <td>0.000000</td>\n",
              "      <td>0.000000</td>\n",
              "      <td>0.000000</td>\n",
              "      <td>...</td>\n",
              "      <td>0.000000</td>\n",
              "      <td>0.000000</td>\n",
              "      <td>0.000000</td>\n",
              "      <td>0.000000</td>\n",
              "      <td>0.000000</td>\n",
              "      <td>0.000000</td>\n",
              "      <td>0.000000</td>\n",
              "      <td>0.000000</td>\n",
              "      <td>0.000000</td>\n",
              "      <td>0.000000</td>\n",
              "    </tr>\n",
              "    <tr>\n",
              "      <th>50%</th>\n",
              "      <td>5.872318</td>\n",
              "      <td>0.000000</td>\n",
              "      <td>0.000000</td>\n",
              "      <td>0.000000</td>\n",
              "      <td>0.000000</td>\n",
              "      <td>0.000000</td>\n",
              "      <td>0.000000</td>\n",
              "      <td>0.000000</td>\n",
              "      <td>0.000000</td>\n",
              "      <td>0.000000</td>\n",
              "      <td>...</td>\n",
              "      <td>0.000000</td>\n",
              "      <td>0.000000</td>\n",
              "      <td>0.000000</td>\n",
              "      <td>0.000000</td>\n",
              "      <td>0.000000</td>\n",
              "      <td>0.000000</td>\n",
              "      <td>0.000000</td>\n",
              "      <td>0.000000</td>\n",
              "      <td>0.000000</td>\n",
              "      <td>0.000000</td>\n",
              "    </tr>\n",
              "    <tr>\n",
              "      <th>75%</th>\n",
              "      <td>11.091553</td>\n",
              "      <td>0.000000</td>\n",
              "      <td>0.000000</td>\n",
              "      <td>0.000000</td>\n",
              "      <td>0.000000</td>\n",
              "      <td>1.000000</td>\n",
              "      <td>0.000000</td>\n",
              "      <td>0.000000</td>\n",
              "      <td>0.000000</td>\n",
              "      <td>0.000000</td>\n",
              "      <td>...</td>\n",
              "      <td>0.000000</td>\n",
              "      <td>0.000000</td>\n",
              "      <td>0.000000</td>\n",
              "      <td>0.000000</td>\n",
              "      <td>0.000000</td>\n",
              "      <td>0.000000</td>\n",
              "      <td>0.000000</td>\n",
              "      <td>0.000000</td>\n",
              "      <td>0.000000</td>\n",
              "      <td>0.000000</td>\n",
              "    </tr>\n",
              "    <tr>\n",
              "      <th>max</th>\n",
              "      <td>207.488576</td>\n",
              "      <td>1.000000</td>\n",
              "      <td>1.000000</td>\n",
              "      <td>1.000000</td>\n",
              "      <td>1.000000</td>\n",
              "      <td>1.000000</td>\n",
              "      <td>1.000000</td>\n",
              "      <td>1.000000</td>\n",
              "      <td>1.000000</td>\n",
              "      <td>1.000000</td>\n",
              "      <td>...</td>\n",
              "      <td>1.000000</td>\n",
              "      <td>1.000000</td>\n",
              "      <td>1.000000</td>\n",
              "      <td>1.000000</td>\n",
              "      <td>1.000000</td>\n",
              "      <td>1.000000</td>\n",
              "      <td>1.000000</td>\n",
              "      <td>1.000000</td>\n",
              "      <td>1.000000</td>\n",
              "      <td>1.000000</td>\n",
              "    </tr>\n",
              "  </tbody>\n",
              "</table>\n",
              "<p>8 rows × 469 columns</p>\n",
              "</div>"
            ],
            "text/plain": [
              "       TMB_NONSYNONYMOUS       PIK3CA        BARD1      MAP3K13       NOTCH4  \\\n",
              "count        1661.000000  1661.000000  1661.000000  1661.000000  1661.000000   \n",
              "mean           11.562370     0.120409     0.013847     0.026490     0.067429   \n",
              "std            18.369198     0.325538     0.116891     0.160636     0.250839   \n",
              "min             0.000000     0.000000     0.000000     0.000000     0.000000   \n",
              "25%             2.936159     0.000000     0.000000     0.000000     0.000000   \n",
              "50%             5.872318     0.000000     0.000000     0.000000     0.000000   \n",
              "75%            11.091553     0.000000     0.000000     0.000000     0.000000   \n",
              "max           207.488576     1.000000     1.000000     1.000000     1.000000   \n",
              "\n",
              "              TP53         EZH2         MDM2        IGF1R        KEAP1  ...  \\\n",
              "count  1661.000000  1661.000000  1661.000000  1661.000000  1661.000000  ...   \n",
              "mean      0.444311     0.024082     0.007827     0.037929     0.059001  ...   \n",
              "std       0.497039     0.153350     0.088148     0.191082     0.235697  ...   \n",
              "min       0.000000     0.000000     0.000000     0.000000     0.000000  ...   \n",
              "25%       0.000000     0.000000     0.000000     0.000000     0.000000  ...   \n",
              "50%       0.000000     0.000000     0.000000     0.000000     0.000000  ...   \n",
              "75%       1.000000     0.000000     0.000000     0.000000     0.000000  ...   \n",
              "max       1.000000     1.000000     1.000000     1.000000     1.000000  ...   \n",
              "\n",
              "             PPARG         MSI2        DUSP4        RRAS2          ERF  \\\n",
              "count  1661.000000  1661.000000  1661.000000  1661.000000  1661.000000   \n",
              "mean      0.008429     0.002408     0.001806     0.001204     0.003612   \n",
              "std       0.091448     0.049029     0.042473     0.034690     0.060012   \n",
              "min       0.000000     0.000000     0.000000     0.000000     0.000000   \n",
              "25%       0.000000     0.000000     0.000000     0.000000     0.000000   \n",
              "50%       0.000000     0.000000     0.000000     0.000000     0.000000   \n",
              "75%       0.000000     0.000000     0.000000     0.000000     0.000000   \n",
              "max       1.000000     1.000000     1.000000     1.000000     1.000000   \n",
              "\n",
              "             HLA-B        RECQL        SESN1        NTHL1         RRAS  \n",
              "count  1661.000000  1661.000000  1661.000000  1661.000000  1661.000000  \n",
              "mean      0.004214     0.003612     0.001204     0.001806     0.000602  \n",
              "std       0.064800     0.060012     0.034690     0.042473     0.024537  \n",
              "min       0.000000     0.000000     0.000000     0.000000     0.000000  \n",
              "25%       0.000000     0.000000     0.000000     0.000000     0.000000  \n",
              "50%       0.000000     0.000000     0.000000     0.000000     0.000000  \n",
              "75%       0.000000     0.000000     0.000000     0.000000     0.000000  \n",
              "max       1.000000     1.000000     1.000000     1.000000     1.000000  \n",
              "\n",
              "[8 rows x 469 columns]"
            ]
          },
          "execution_count": 2,
          "metadata": {},
          "output_type": "execute_result"
        }
      ],
      "source": [
        "df= pd.read_csv('./cancer_data.csv') #read the dataset\n",
        "#Explore the dataset\n",
        "df.head()\n",
        "df.describe() #To know more about the dataset"
      ]
    },
    {
      "cell_type": "markdown",
      "id": "2089fdea",
      "metadata": {
        "id": "2089fdea"
      },
      "source": [
        "##  Clean the data set"
      ]
    },
    {
      "cell_type": "code",
      "execution_count": null,
      "id": "e16b7a10",
      "metadata": {
        "id": "e16b7a10",
        "outputId": "6026bfad-066b-4179-e9b0-6abb3e1ab08a"
      },
      "outputs": [
        {
          "name": "stdout",
          "output_type": "stream",
          "text": [
            "Number of null values in the data set are -  0\n"
          ]
        },
        {
          "data": {
            "text/html": [
              "<div>\n",
              "<style scoped>\n",
              "    .dataframe tbody tr th:only-of-type {\n",
              "        vertical-align: middle;\n",
              "    }\n",
              "\n",
              "    .dataframe tbody tr th {\n",
              "        vertical-align: top;\n",
              "    }\n",
              "\n",
              "    .dataframe thead th {\n",
              "        text-align: right;\n",
              "    }\n",
              "</style>\n",
              "<table border=\"1\" class=\"dataframe\">\n",
              "  <thead>\n",
              "    <tr style=\"text-align: right;\">\n",
              "      <th></th>\n",
              "      <th>OS_STATUS</th>\n",
              "      <th>SEX</th>\n",
              "      <th>TMB_NONSYNONYMOUS</th>\n",
              "      <th>PIK3CA</th>\n",
              "      <th>BARD1</th>\n",
              "      <th>MAP3K13</th>\n",
              "      <th>NOTCH4</th>\n",
              "      <th>TP53</th>\n",
              "      <th>EZH2</th>\n",
              "      <th>MDM2</th>\n",
              "      <th>...</th>\n",
              "      <th>PPARG</th>\n",
              "      <th>MSI2</th>\n",
              "      <th>DUSP4</th>\n",
              "      <th>RRAS2</th>\n",
              "      <th>ERF</th>\n",
              "      <th>HLA-B</th>\n",
              "      <th>RECQL</th>\n",
              "      <th>SESN1</th>\n",
              "      <th>NTHL1</th>\n",
              "      <th>RRAS</th>\n",
              "    </tr>\n",
              "  </thead>\n",
              "  <tbody>\n",
              "    <tr>\n",
              "      <th>count</th>\n",
              "      <td>1660.000000</td>\n",
              "      <td>1660.000000</td>\n",
              "      <td>1660.000000</td>\n",
              "      <td>1660.000000</td>\n",
              "      <td>1660.000000</td>\n",
              "      <td>1660.000000</td>\n",
              "      <td>1660.00000</td>\n",
              "      <td>1660.000000</td>\n",
              "      <td>1660.000000</td>\n",
              "      <td>1660.000000</td>\n",
              "      <td>...</td>\n",
              "      <td>1660.000000</td>\n",
              "      <td>1660.000000</td>\n",
              "      <td>1660.000000</td>\n",
              "      <td>1660.000000</td>\n",
              "      <td>1660.000000</td>\n",
              "      <td>1660.000000</td>\n",
              "      <td>1660.000000</td>\n",
              "      <td>1660.000000</td>\n",
              "      <td>1660.000000</td>\n",
              "      <td>1660.000000</td>\n",
              "    </tr>\n",
              "    <tr>\n",
              "      <th>mean</th>\n",
              "      <td>0.499398</td>\n",
              "      <td>0.377711</td>\n",
              "      <td>11.569335</td>\n",
              "      <td>0.120482</td>\n",
              "      <td>0.013855</td>\n",
              "      <td>0.026506</td>\n",
              "      <td>0.06747</td>\n",
              "      <td>0.444578</td>\n",
              "      <td>0.024096</td>\n",
              "      <td>0.007831</td>\n",
              "      <td>...</td>\n",
              "      <td>0.008434</td>\n",
              "      <td>0.002410</td>\n",
              "      <td>0.001807</td>\n",
              "      <td>0.001205</td>\n",
              "      <td>0.003614</td>\n",
              "      <td>0.004217</td>\n",
              "      <td>0.003614</td>\n",
              "      <td>0.001205</td>\n",
              "      <td>0.001807</td>\n",
              "      <td>0.000602</td>\n",
              "    </tr>\n",
              "    <tr>\n",
              "      <th>std</th>\n",
              "      <td>0.500150</td>\n",
              "      <td>0.484961</td>\n",
              "      <td>18.372539</td>\n",
              "      <td>0.325622</td>\n",
              "      <td>0.116926</td>\n",
              "      <td>0.160683</td>\n",
              "      <td>0.25091</td>\n",
              "      <td>0.497069</td>\n",
              "      <td>0.153395</td>\n",
              "      <td>0.088174</td>\n",
              "      <td>...</td>\n",
              "      <td>0.091475</td>\n",
              "      <td>0.049044</td>\n",
              "      <td>0.042486</td>\n",
              "      <td>0.034700</td>\n",
              "      <td>0.060030</td>\n",
              "      <td>0.064820</td>\n",
              "      <td>0.060030</td>\n",
              "      <td>0.034700</td>\n",
              "      <td>0.042486</td>\n",
              "      <td>0.024544</td>\n",
              "    </tr>\n",
              "    <tr>\n",
              "      <th>min</th>\n",
              "      <td>0.000000</td>\n",
              "      <td>0.000000</td>\n",
              "      <td>0.000000</td>\n",
              "      <td>0.000000</td>\n",
              "      <td>0.000000</td>\n",
              "      <td>0.000000</td>\n",
              "      <td>0.00000</td>\n",
              "      <td>0.000000</td>\n",
              "      <td>0.000000</td>\n",
              "      <td>0.000000</td>\n",
              "      <td>...</td>\n",
              "      <td>0.000000</td>\n",
              "      <td>0.000000</td>\n",
              "      <td>0.000000</td>\n",
              "      <td>0.000000</td>\n",
              "      <td>0.000000</td>\n",
              "      <td>0.000000</td>\n",
              "      <td>0.000000</td>\n",
              "      <td>0.000000</td>\n",
              "      <td>0.000000</td>\n",
              "      <td>0.000000</td>\n",
              "    </tr>\n",
              "    <tr>\n",
              "      <th>25%</th>\n",
              "      <td>0.000000</td>\n",
              "      <td>0.000000</td>\n",
              "      <td>2.936159</td>\n",
              "      <td>0.000000</td>\n",
              "      <td>0.000000</td>\n",
              "      <td>0.000000</td>\n",
              "      <td>0.00000</td>\n",
              "      <td>0.000000</td>\n",
              "      <td>0.000000</td>\n",
              "      <td>0.000000</td>\n",
              "      <td>...</td>\n",
              "      <td>0.000000</td>\n",
              "      <td>0.000000</td>\n",
              "      <td>0.000000</td>\n",
              "      <td>0.000000</td>\n",
              "      <td>0.000000</td>\n",
              "      <td>0.000000</td>\n",
              "      <td>0.000000</td>\n",
              "      <td>0.000000</td>\n",
              "      <td>0.000000</td>\n",
              "      <td>0.000000</td>\n",
              "    </tr>\n",
              "    <tr>\n",
              "      <th>50%</th>\n",
              "      <td>0.000000</td>\n",
              "      <td>0.000000</td>\n",
              "      <td>5.872318</td>\n",
              "      <td>0.000000</td>\n",
              "      <td>0.000000</td>\n",
              "      <td>0.000000</td>\n",
              "      <td>0.00000</td>\n",
              "      <td>0.000000</td>\n",
              "      <td>0.000000</td>\n",
              "      <td>0.000000</td>\n",
              "      <td>...</td>\n",
              "      <td>0.000000</td>\n",
              "      <td>0.000000</td>\n",
              "      <td>0.000000</td>\n",
              "      <td>0.000000</td>\n",
              "      <td>0.000000</td>\n",
              "      <td>0.000000</td>\n",
              "      <td>0.000000</td>\n",
              "      <td>0.000000</td>\n",
              "      <td>0.000000</td>\n",
              "      <td>0.000000</td>\n",
              "    </tr>\n",
              "    <tr>\n",
              "      <th>75%</th>\n",
              "      <td>1.000000</td>\n",
              "      <td>1.000000</td>\n",
              "      <td>11.128935</td>\n",
              "      <td>0.000000</td>\n",
              "      <td>0.000000</td>\n",
              "      <td>0.000000</td>\n",
              "      <td>0.00000</td>\n",
              "      <td>1.000000</td>\n",
              "      <td>0.000000</td>\n",
              "      <td>0.000000</td>\n",
              "      <td>...</td>\n",
              "      <td>0.000000</td>\n",
              "      <td>0.000000</td>\n",
              "      <td>0.000000</td>\n",
              "      <td>0.000000</td>\n",
              "      <td>0.000000</td>\n",
              "      <td>0.000000</td>\n",
              "      <td>0.000000</td>\n",
              "      <td>0.000000</td>\n",
              "      <td>0.000000</td>\n",
              "      <td>0.000000</td>\n",
              "    </tr>\n",
              "    <tr>\n",
              "      <th>max</th>\n",
              "      <td>1.000000</td>\n",
              "      <td>1.000000</td>\n",
              "      <td>207.488576</td>\n",
              "      <td>1.000000</td>\n",
              "      <td>1.000000</td>\n",
              "      <td>1.000000</td>\n",
              "      <td>1.00000</td>\n",
              "      <td>1.000000</td>\n",
              "      <td>1.000000</td>\n",
              "      <td>1.000000</td>\n",
              "      <td>...</td>\n",
              "      <td>1.000000</td>\n",
              "      <td>1.000000</td>\n",
              "      <td>1.000000</td>\n",
              "      <td>1.000000</td>\n",
              "      <td>1.000000</td>\n",
              "      <td>1.000000</td>\n",
              "      <td>1.000000</td>\n",
              "      <td>1.000000</td>\n",
              "      <td>1.000000</td>\n",
              "      <td>1.000000</td>\n",
              "    </tr>\n",
              "  </tbody>\n",
              "</table>\n",
              "<p>8 rows × 471 columns</p>\n",
              "</div>"
            ],
            "text/plain": [
              "         OS_STATUS          SEX  TMB_NONSYNONYMOUS       PIK3CA        BARD1  \\\n",
              "count  1660.000000  1660.000000        1660.000000  1660.000000  1660.000000   \n",
              "mean      0.499398     0.377711          11.569335     0.120482     0.013855   \n",
              "std       0.500150     0.484961          18.372539     0.325622     0.116926   \n",
              "min       0.000000     0.000000           0.000000     0.000000     0.000000   \n",
              "25%       0.000000     0.000000           2.936159     0.000000     0.000000   \n",
              "50%       0.000000     0.000000           5.872318     0.000000     0.000000   \n",
              "75%       1.000000     1.000000          11.128935     0.000000     0.000000   \n",
              "max       1.000000     1.000000         207.488576     1.000000     1.000000   \n",
              "\n",
              "           MAP3K13      NOTCH4         TP53         EZH2         MDM2  ...  \\\n",
              "count  1660.000000  1660.00000  1660.000000  1660.000000  1660.000000  ...   \n",
              "mean      0.026506     0.06747     0.444578     0.024096     0.007831  ...   \n",
              "std       0.160683     0.25091     0.497069     0.153395     0.088174  ...   \n",
              "min       0.000000     0.00000     0.000000     0.000000     0.000000  ...   \n",
              "25%       0.000000     0.00000     0.000000     0.000000     0.000000  ...   \n",
              "50%       0.000000     0.00000     0.000000     0.000000     0.000000  ...   \n",
              "75%       0.000000     0.00000     1.000000     0.000000     0.000000  ...   \n",
              "max       1.000000     1.00000     1.000000     1.000000     1.000000  ...   \n",
              "\n",
              "             PPARG         MSI2        DUSP4        RRAS2          ERF  \\\n",
              "count  1660.000000  1660.000000  1660.000000  1660.000000  1660.000000   \n",
              "mean      0.008434     0.002410     0.001807     0.001205     0.003614   \n",
              "std       0.091475     0.049044     0.042486     0.034700     0.060030   \n",
              "min       0.000000     0.000000     0.000000     0.000000     0.000000   \n",
              "25%       0.000000     0.000000     0.000000     0.000000     0.000000   \n",
              "50%       0.000000     0.000000     0.000000     0.000000     0.000000   \n",
              "75%       0.000000     0.000000     0.000000     0.000000     0.000000   \n",
              "max       1.000000     1.000000     1.000000     1.000000     1.000000   \n",
              "\n",
              "             HLA-B        RECQL        SESN1        NTHL1         RRAS  \n",
              "count  1660.000000  1660.000000  1660.000000  1660.000000  1660.000000  \n",
              "mean      0.004217     0.003614     0.001205     0.001807     0.000602  \n",
              "std       0.064820     0.060030     0.034700     0.042486     0.024544  \n",
              "min       0.000000     0.000000     0.000000     0.000000     0.000000  \n",
              "25%       0.000000     0.000000     0.000000     0.000000     0.000000  \n",
              "50%       0.000000     0.000000     0.000000     0.000000     0.000000  \n",
              "75%       0.000000     0.000000     0.000000     0.000000     0.000000  \n",
              "max       1.000000     1.000000     1.000000     1.000000     1.000000  \n",
              "\n",
              "[8 rows x 471 columns]"
            ]
          },
          "execution_count": 3,
          "metadata": {},
          "output_type": "execute_result"
        }
      ],
      "source": [
        "#Check for null entries\n",
        "print(\"Number of null values in the data set are - \",df.isnull().values.any().sum())\n",
        "#Replace yes and no entries in target to 1 and 0 repsectively\n",
        "df=df.replace({'OS_STATUS':{'1:DECEASED':0, '0:LIVING':1}})\n",
        "df=df.replace({'SEX':{'Female':1, 'Male':0}})\n",
        "df=df.drop(labels = 1042, axis = 0)\n",
        "#Updated version\n",
        "df.head()\n",
        "df.describe()"
      ]
    },
    {
      "cell_type": "markdown",
      "id": "5afb16d8",
      "metadata": {
        "id": "5afb16d8"
      },
      "source": [
        "## Deal with the outliers"
      ]
    },
    {
      "cell_type": "code",
      "execution_count": null,
      "id": "56f3794b",
      "metadata": {
        "id": "56f3794b",
        "outputId": "b3669458-2cd5-4e2e-95cd-0f00bb05f21c"
      },
      "outputs": [
        {
          "data": {
            "text/plain": [
              "<matplotlib.collections.PathCollection at 0x7fe3f103f820>"
            ]
          },
          "execution_count": 4,
          "metadata": {},
          "output_type": "execute_result"
        },
        {
          "data": {
            "image/png": "[encoded data removed]",
            "text/plain": [
              "<Figure size 432x288 with 1 Axes>"
            ]
          },
          "metadata": {
            "needs_background": "light"
          },
          "output_type": "display_data"
        }
      ],
      "source": [
        "#Plot the data to spot the outliers\n",
        "fig = plt.subplot()\n",
        "fig.scatter(df.TMB_NONSYNONYMOUS, df.OS_STATUS)"
      ]
    },
    {
      "cell_type": "code",
      "execution_count": null,
      "id": "2f54f38c",
      "metadata": {
        "id": "2f54f38c",
        "outputId": "5028352e-1452-4b05-92ac-430b49facc7c"
      },
      "outputs": [
        {
          "data": {
            "text/plain": [
              "<AxesSubplot:>"
            ]
          },
          "execution_count": 5,
          "metadata": {},
          "output_type": "execute_result"
        },
        {
          "data": {
            "image/png": "[encoded data removed]",
            "text/plain": [
              "<Figure size 432x288 with 1 Axes>"
            ]
          },
          "metadata": {
            "needs_background": "light"
          },
          "output_type": "display_data"
        }
      ],
      "source": [
        "sns.boxplot(df.TMB_NONSYNONYMOUS)"
      ]
    },
    {
      "cell_type": "code",
      "execution_count": null,
      "id": "f1f6227b",
      "metadata": {
        "id": "f1f6227b",
        "outputId": "76b59959-780d-45b6-9ddb-9bf7b63f0d4e"
      },
      "outputs": [
        {
          "name": "stdout",
          "output_type": "stream",
          "text": [
            "Lower and upper limit calculated are - 23.41809824699 -9.353004399649997\n",
            "Number of entries below the lower limit are  0\n",
            "Number of entries above the upper limit are  191\n"
          ]
        }
      ],
      "source": [
        "#Function to find the upper and lower limits to identify and remover outliers\n",
        "def interQuartile(x):\n",
        "  percentile25= x.quantile(0.25)\n",
        "  percentile75=x.quantile(0.75)\n",
        "  iqr=percentile75-percentile25\n",
        "  upperLimit= percentile75+1.5*iqr\n",
        "  lowerLimit= percentile25-1.5*iqr\n",
        "  return upperLimit, lowerLimit\n",
        "\"\"\"\n",
        "To find the upper and lower limit CET_score column and \n",
        "check if any values are beyond these limits\n",
        "\"\"\"\n",
        "upper,lower= interQuartile(df.TMB_NONSYNONYMOUS)\n",
        "print(\"Lower and upper limit calculated are -\", upper, lower)\n",
        "\n",
        "print(\"Number of entries below the lower limit are \", (df.TMB_NONSYNONYMOUS < lower).sum())\n",
        "print(\"Number of entries above the upper limit are \", (df.TMB_NONSYNONYMOUS > upper).sum())\n"
      ]
    },
    {
      "cell_type": "code",
      "execution_count": null,
      "id": "2bf6b250",
      "metadata": {
        "id": "2bf6b250"
      },
      "outputs": [],
      "source": [
        "#Function to drop the outliers\n",
        "def dropOutliers(x, upper, lower):\n",
        "    #TODO\n",
        "    return\n",
        "dropOutliers(df, upper, lower)"
      ]
    },
    {
      "cell_type": "markdown",
      "id": "888f9ea0",
      "metadata": {
        "id": "888f9ea0"
      },
      "source": [
        "## Construct training set and testing set"
      ]
    },
    {
      "cell_type": "code",
      "execution_count": null,
      "id": "8eee85d4",
      "metadata": {
        "id": "8eee85d4"
      },
      "outputs": [],
      "source": [
        "#Define the independent and dependent variables\n",
        "y= df.OS_STATUS #dependent variable is Decision\n",
        "x= df.TMB_NONSYNONYMOUS\n",
        "# splitting the data\n",
        "x_train, x_test, y_train, y_test = train_test_split(x,y, test_size= 0.2)\n",
        "x_train = x_train.values.reshape(-1, 1)\n",
        "x_test = x_test.values.reshape(-1, 1)"
      ]
    },
    {
      "cell_type": "markdown",
      "id": "86d2f79a",
      "metadata": {
        "id": "86d2f79a"
      },
      "source": [
        "## Fit a logistic regression model"
      ]
    },
    {
      "cell_type": "code",
      "execution_count": null,
      "id": "62600f79",
      "metadata": {
        "id": "62600f79",
        "outputId": "7605b46f-ca3e-4cd0-b851-0e6f2afbb8c6"
      },
      "outputs": [
        {
          "name": "stdout",
          "output_type": "stream",
          "text": [
            "The intercept b0=  [-0.2053577]\n",
            "The coefficient b1=  [[0.01775319]]\n"
          ]
        }
      ],
      "source": [
        "#Implementing Logistic Regression using sklearn\n",
        "modelLogistic = LogisticRegression()\n",
        "modelLogistic.fit(x_train, y_train)\n",
        "#print the regression coefficients\n",
        "print(\"The intercept b0= \", modelLogistic.intercept_)\n",
        "print(\"The coefficient b1= \", modelLogistic.coef_)"
      ]
    },
    {
      "cell_type": "code",
      "execution_count": null,
      "id": "15108b45",
      "metadata": {
        "id": "15108b45"
      },
      "outputs": [],
      "source": [
        "y_pred= modelLogistic.predict(x_test)"
      ]
    },
    {
      "cell_type": "code",
      "execution_count": null,
      "id": "985045ab",
      "metadata": {
        "id": "985045ab",
        "outputId": "40f7c385-a772-426f-a0e8-606353cbba96"
      },
      "outputs": [
        {
          "name": "stdout",
          "output_type": "stream",
          "text": [
            "[[136  26]\n",
            " [106  64]]\n",
            "Accuracy from confusion matrix is  0.6024096385542169\n"
          ]
        }
      ],
      "source": [
        "#Creating confusion matrix\n",
        "ConfusionMatrix = confusion_matrix(y_test, y_pred)\n",
        "print(ConfusionMatrix)\n",
        "#Accuracy from confusion matrix\n",
        "TP= ConfusionMatrix[1,1] #True positive\n",
        "TN= ConfusionMatrix[0,0] #True negative\n",
        "Total=len(y_test)\n",
        "print(\"Accuracy from confusion matrix is \", (TN+TP)/Total)"
      ]
    },
    {
      "cell_type": "markdown",
      "id": "964510f3",
      "metadata": {
        "id": "964510f3"
      },
      "source": [
        "## Summary"
      ]
    },
    {
      "cell_type": "code",
      "execution_count": null,
      "id": "51980b79",
      "metadata": {
        "id": "51980b79",
        "outputId": "fb121b41-e714-4cc2-9fd2-9c2bab603ced"
      },
      "outputs": [
        {
          "name": "stdout",
          "output_type": "stream",
          "text": [
            "Optimization terminated successfully.\n",
            "         Current function value: 0.683817\n",
            "         Iterations 5\n",
            "                           Logit Regression Results                           \n",
            "==============================================================================\n",
            "Dep. Variable:              OS_STATUS   No. Observations:                 1328\n",
            "Model:                          Logit   Df Residuals:                     1326\n",
            "Method:                           MLE   Df Model:                            1\n",
            "Date:                Sun, 04 Dec 2022   Pseudo R-squ.:                 0.01342\n",
            "Time:                        16:04:14   Log-Likelihood:                -908.11\n",
            "converged:                       True   LL-Null:                       -920.46\n",
            "Covariance Type:            nonrobust   LLR p-value:                 6.676e-07\n",
            "==============================================================================\n",
            "                 coef    std err          z      P>|z|      [0.025      0.975]\n",
            "------------------------------------------------------------------------------\n",
            "const         -0.2054      0.068     -2.999      0.003      -0.340      -0.071\n",
            "x1             0.0178      0.004      4.428      0.000       0.010       0.026\n",
            "==============================================================================\n"
          ]
        }
      ],
      "source": [
        "#Using statsmodels package to obtian the model\n",
        "import statsmodels.api as sm\n",
        "x_train = sm.add_constant(x_train)\n",
        "logit_model=sm.Logit(y_train,x_train)\n",
        "result=logit_model.fit()\n",
        "print(result.summary())"
      ]
    },
    {
      "cell_type": "code",
      "execution_count": null,
      "id": "4bf44571",
      "metadata": {
        "id": "4bf44571"
      },
      "outputs": [],
      "source": []
    }
  ],
  "metadata": {
    "kernelspec": {
      "display_name": "Python 3 (ipykernel)",
      "language": "python",
      "name": "python3"
    },
    "language_info": {
      "codemirror_mode": {
        "name": "ipython",
        "version": 3
      },
      "file_extension": ".py",
      "mimetype": "text/x-python",
      "name": "python",
      "nbconvert_exporter": "python",
      "pygments_lexer": "ipython3",
      "version": "3.8.13"
    },
    "colab": {
      "provenance": []
    }
  },
  "nbformat": 4,
  "nbformat_minor": 5
}