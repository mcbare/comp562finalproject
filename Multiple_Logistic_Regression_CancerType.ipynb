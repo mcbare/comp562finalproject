{
  "cells": [
    {
      "cell_type": "markdown",
      "metadata": {
        "id": "d18e4646"
      },
      "source": [
        "# Multiple Logistic Regression"
      ],
      "id": "d18e4646"
    },
    {
      "cell_type": "markdown",
      "metadata": {
        "id": "adfaafd9"
      },
      "source": [
        "## Library"
      ],
      "id": "adfaafd9"
    },
    {
      "cell_type": "code",
      "execution_count": null,
      "metadata": {
        "id": "227b909f"
      },
      "outputs": [],
      "source": [
        "#import the relevant libraries\n",
        "import numpy as np\n",
        "import matplotlib.pyplot as plt\n",
        "import pandas as pd\n",
        "import seaborn as sns\n",
        "from sklearn.linear_model import LogisticRegression\n",
        "from sklearn.model_selection import train_test_split\n",
        "from sklearn.metrics import confusion_matrix, accuracy_score\n",
        "%matplotlib inline"
      ],
      "id": "227b909f"
    },
    {
      "cell_type": "markdown",
      "metadata": {
        "id": "aedc886f"
      },
      "source": [
        "## Import and Clean Data"
      ],
      "id": "aedc886f"
    },
    {
      "cell_type": "code",
      "execution_count": null,
      "metadata": {
        "id": "d66e4640",
        "outputId": "55cc7165-7326-466d-8830-04e38ab85fa0"
      },
      "outputs": [
        {
          "name": "stdout",
          "output_type": "stream",
          "text": [
            "Number of null values in the data set are -  0\n",
            "<class 'pandas.core.frame.DataFrame'>\n",
            "RangeIndex: 1660 entries, 0 to 1659\n",
            "Columns: 474 entries, PATIENT_ID to RRAS\n",
            "dtypes: float64(1), int64(471), object(2)\n",
            "memory usage: 6.0+ MB\n"
          ]
        }
      ],
      "source": [
        "df= pd.read_csv('./cancer_data.csv') #read the dataset\n",
        "#Check for null entries\n",
        "print(\"Number of null values in the data set are - \",df.isnull().values.any().sum())\n",
        "\n",
        "#Replace yes and no entries in target to 1 and 0 repsectively\n",
        "df=df.replace({'OS_STATUS':{'1:DECEASED':0, '0:LIVING':1}})\n",
        "df=df.replace({'SEX':{'Female':1, 'Male':0}})\n",
        "\n",
        "df.info()\n",
        "df.head()\n",
        "\n",
        "# select specific cancer types\n",
        "df_lung = df.loc[df['CANCER_TYPE'] == 'Non-Small Cell Lung Cancer'] # 350 patients\n",
        "df_skin = df.loc[df['CANCER_TYPE'] == 'Melanoma'] # 320\n",
        "df_blad = df.loc[df['CANCER_TYPE'] == 'Bladder Cancer'] # 215\n",
        "df_rcc = df.loc[df['CANCER_TYPE'] == 'Renal Cell Carcinoma'] # 151"
      ],
      "id": "d66e4640"
    },
    {
      "cell_type": "markdown",
      "metadata": {
        "id": "888f9ea0"
      },
      "source": [
        "## Logistic regression: TMB"
      ],
      "id": "888f9ea0"
    },
    {
      "cell_type": "code",
      "execution_count": null,
      "metadata": {
        "id": "-IpwtSgVVDs_"
      },
      "outputs": [],
      "source": [
        "def tmb_only_regression(df):\n",
        "    y= df.OS_STATUS #dependent variable is Decision\n",
        "    x= df.TMB_NONSYNONYMOUS\n",
        "    \n",
        "    # splitting the data\n",
        "    x_train, x_test, y_train, y_test = train_test_split(x,y, test_size= 0.2)\n",
        "    x_train = x_train.values.reshape(-1, 1)\n",
        "    x_test = x_test.values.reshape(-1, 1)\n",
        "    \n",
        "    #Implementing Logistic Regression using sklearn\n",
        "    modelLogistic = LogisticRegression(max_iter=1000)\n",
        "    modelLogistic.fit(x_train, y_train)\n",
        "    y_pred= modelLogistic.predict(x_test)\n",
        "    \n",
        "    #Creating confusion matrix\n",
        "    ConfusionMatrix = confusion_matrix(y_test, y_pred)\n",
        "    print(ConfusionMatrix)\n",
        "    #Accuracy from confusion matrix\n",
        "    TP= ConfusionMatrix[1,1] #True positive\n",
        "    TN= ConfusionMatrix[0,0] #True negative\n",
        "    Total=len(y_test)\n",
        "    print(\"Accuracy from confusion matrix is \", (TN+TP)/Total)"
      ],
      "id": "-IpwtSgVVDs_"
    },
    {
      "cell_type": "code",
      "execution_count": null,
      "metadata": {
        "id": "zq6dDM3vVDtA",
        "outputId": "7000ebb3-a9b5-4b38-c452-b0f7a8e64160"
      },
      "outputs": [
        {
          "name": "stdout",
          "output_type": "stream",
          "text": [
            "[[135  23]\n",
            " [125  49]]\n",
            "Accuracy from confusion matrix is  0.5542168674698795\n",
            "[[44  4]\n",
            " [20  2]]\n",
            "Accuracy from confusion matrix is  0.6571428571428571\n",
            "[[ 0 25]\n",
            " [ 0 39]]\n",
            "Accuracy from confusion matrix is  0.609375\n",
            "[[ 0 21]\n",
            " [ 0 22]]\n",
            "Accuracy from confusion matrix is  0.5116279069767442\n",
            "[[ 0 13]\n",
            " [ 0 18]]\n",
            "Accuracy from confusion matrix is  0.5806451612903226\n"
          ]
        }
      ],
      "source": [
        "tmb_only_regression(df)\n",
        "tmb_only_regression(df_lung)\n",
        "tmb_only_regression(df_skin)\n",
        "tmb_only_regression(df_blad)\n",
        "tmb_only_regression(df_rcc)"
      ],
      "id": "zq6dDM3vVDtA"
    },
    {
      "cell_type": "markdown",
      "metadata": {
        "id": "9yat2canVDtB"
      },
      "source": [
        "# feature selection for multivariate prediction\n",
        "Select genes that are clinically enriched for each cancer type: (code in R)\n",
        "\n",
        "Lung: \"ZFHX3\"  \"EPHA7\"  \"NTRK3\"  \"EPHA5\"  \"NF2\"    \"ABL1\"   \"MAX\"    \"FLT3\"   \"PIK3C3\" \"PGR\" \"MRE11A\" \"EPHA3\"  \"RET\"    \"INHBA\"  \"MET\"    \"NOTCH1\"\n",
        "\n",
        "Skin: \"TET1\"   \"B2M\"    \"BTK\"    \"TERT\"   \"DNMT3A\" \"ROS1\"   \"STAG2\"  \"ATR\"    \"PTPRD\"  \"CARD11\" \"KMT2D\"  \"PREX2\"  \"FAM46C\" \"NCOA3\"  \"EPHA7\"  \"RICTOR\" \"ATRX\"   \"GNAQ\"   \"IGF1R\"  \"AKT1\"  \"BIRC3\"  \"CASP8\"  \"INSR\"   \"RPTOR\" \n",
        "\n",
        "Blad: \"RNF43\"  \"ATM\"    \"NCOR1\"  \"PALB2\"  \"TERT\"   \"PIK3CA\" \"TP53\"   \"ERBB3\"  \"FGFR2\"  \"CREBBP\"\n",
        "\n",
        "RCC: \"VHL\""
      ],
      "id": "9yat2canVDtB"
    },
    {
      "cell_type": "code",
      "execution_count": null,
      "metadata": {
        "id": "zq4T-JoeVDtC"
      },
      "outputs": [],
      "source": [
        "va_lung = [\"SEX\",\"AGE_AT_SEQ_REPORT\",\"TMB_NONSYNONYMOUS\",\"ZFHX3\",\"EPHA7\",\"NTRK3\",\"EPHA5\",\"NF2\",\"ABL1\",\"MAX\",\"FLT3\",\"PIK3C3\",\"PGR\",\"MRE11A\",\"EPHA3\",\"RET\",\"INHBA\",\"MET\",\"NOTCH1\"]\n",
        "va_skin = [\"SEX\",\"AGE_AT_SEQ_REPORT\",\"TMB_NONSYNONYMOUS\",\"TET1\",\"B2M\",\"BTK\",\"TERT\",\"DNMT3A\",\"ROS1\",\"STAG2\",\"ATR\",\"PTPRD\",\"CARD11\",\"KMT2D\",\"PREX2\",\"FAM46C\",\"NCOA3\",\"EPHA7\",\"RICTOR\",\"ATRX\",\"GNAQ\",\"IGF1R\",\"AKT1\",\"BIRC3\",\"CASP8\",\"INSR\",\"RPTOR\"]\n",
        "va_blad = [\"SEX\",\"AGE_AT_SEQ_REPORT\",\"TMB_NONSYNONYMOUS\",\"RNF43\",\"ATM\",\"NCOR1\",\"PALB2\",\"TERT\",\"PIK3CA\",\"TP53\",\"ERBB3\",\"FGFR2\",\"CREBBP\"]\n",
        "va_rcc = [\"SEX\",\"AGE_AT_SEQ_REPORT\",\"TMB_NONSYNONYMOUS\",\"VHL\"]"
      ],
      "id": "zq4T-JoeVDtC"
    },
    {
      "cell_type": "markdown",
      "metadata": {
        "id": "9WnYxIxbVDtD"
      },
      "source": [
        "# Multivariate logistic regression, cancer-specific - TMB, Sex, Age, clinically enriched genes"
      ],
      "id": "9WnYxIxbVDtD"
    },
    {
      "cell_type": "code",
      "execution_count": null,
      "metadata": {
        "id": "GJkBXxxIVDtD",
        "outputId": "2a9e45b7-c765-412d-a169-1eb5766ae9c6"
      },
      "outputs": [
        {
          "data": {
            "text/html": [
              "<div>\n",
              "<style scoped>\n",
              "    .dataframe tbody tr th:only-of-type {\n",
              "        vertical-align: middle;\n",
              "    }\n",
              "\n",
              "    .dataframe tbody tr th {\n",
              "        vertical-align: top;\n",
              "    }\n",
              "\n",
              "    .dataframe thead th {\n",
              "        text-align: right;\n",
              "    }\n",
              "</style>\n",
              "<table border=\"1\" class=\"dataframe\">\n",
              "  <thead>\n",
              "    <tr style=\"text-align: right;\">\n",
              "      <th></th>\n",
              "      <th>PATIENT_ID</th>\n",
              "      <th>OS_STATUS</th>\n",
              "      <th>SEX</th>\n",
              "      <th>CANCER_TYPE</th>\n",
              "      <th>AGE_AT_SEQ_REPORT</th>\n",
              "      <th>TMB_NONSYNONYMOUS</th>\n",
              "      <th>PIK3CA</th>\n",
              "      <th>BARD1</th>\n",
              "      <th>MAP3K13</th>\n",
              "      <th>NOTCH4</th>\n",
              "      <th>...</th>\n",
              "      <th>PPARG</th>\n",
              "      <th>MSI2</th>\n",
              "      <th>DUSP4</th>\n",
              "      <th>RRAS2</th>\n",
              "      <th>ERF</th>\n",
              "      <th>HLA-B</th>\n",
              "      <th>RECQL</th>\n",
              "      <th>SESN1</th>\n",
              "      <th>NTHL1</th>\n",
              "      <th>RRAS</th>\n",
              "    </tr>\n",
              "  </thead>\n",
              "  <tbody>\n",
              "    <tr>\n",
              "      <th>0</th>\n",
              "      <td>P-0000057</td>\n",
              "      <td>0</td>\n",
              "      <td>1</td>\n",
              "      <td>Breast Cancer</td>\n",
              "      <td>41</td>\n",
              "      <td>5.545777</td>\n",
              "      <td>1</td>\n",
              "      <td>1</td>\n",
              "      <td>1</td>\n",
              "      <td>1</td>\n",
              "      <td>...</td>\n",
              "      <td>0</td>\n",
              "      <td>0</td>\n",
              "      <td>0</td>\n",
              "      <td>0</td>\n",
              "      <td>0</td>\n",
              "      <td>0</td>\n",
              "      <td>0</td>\n",
              "      <td>0</td>\n",
              "      <td>0</td>\n",
              "      <td>0</td>\n",
              "    </tr>\n",
              "    <tr>\n",
              "      <th>1</th>\n",
              "      <td>P-0000062</td>\n",
              "      <td>0</td>\n",
              "      <td>0</td>\n",
              "      <td>Esophagogastric Cancer</td>\n",
              "      <td>80</td>\n",
              "      <td>6.654932</td>\n",
              "      <td>0</td>\n",
              "      <td>0</td>\n",
              "      <td>0</td>\n",
              "      <td>0</td>\n",
              "      <td>...</td>\n",
              "      <td>0</td>\n",
              "      <td>0</td>\n",
              "      <td>0</td>\n",
              "      <td>0</td>\n",
              "      <td>0</td>\n",
              "      <td>0</td>\n",
              "      <td>0</td>\n",
              "      <td>0</td>\n",
              "      <td>0</td>\n",
              "      <td>0</td>\n",
              "    </tr>\n",
              "    <tr>\n",
              "      <th>2</th>\n",
              "      <td>P-0000063</td>\n",
              "      <td>1</td>\n",
              "      <td>0</td>\n",
              "      <td>Bladder Cancer</td>\n",
              "      <td>62</td>\n",
              "      <td>15.528174</td>\n",
              "      <td>0</td>\n",
              "      <td>0</td>\n",
              "      <td>0</td>\n",
              "      <td>0</td>\n",
              "      <td>...</td>\n",
              "      <td>0</td>\n",
              "      <td>0</td>\n",
              "      <td>0</td>\n",
              "      <td>0</td>\n",
              "      <td>0</td>\n",
              "      <td>0</td>\n",
              "      <td>0</td>\n",
              "      <td>0</td>\n",
              "      <td>0</td>\n",
              "      <td>0</td>\n",
              "    </tr>\n",
              "    <tr>\n",
              "      <th>3</th>\n",
              "      <td>P-0000071</td>\n",
              "      <td>1</td>\n",
              "      <td>0</td>\n",
              "      <td>Bladder Cancer</td>\n",
              "      <td>66</td>\n",
              "      <td>9.982398</td>\n",
              "      <td>0</td>\n",
              "      <td>0</td>\n",
              "      <td>0</td>\n",
              "      <td>0</td>\n",
              "      <td>...</td>\n",
              "      <td>0</td>\n",
              "      <td>0</td>\n",
              "      <td>0</td>\n",
              "      <td>0</td>\n",
              "      <td>0</td>\n",
              "      <td>0</td>\n",
              "      <td>0</td>\n",
              "      <td>0</td>\n",
              "      <td>0</td>\n",
              "      <td>0</td>\n",
              "    </tr>\n",
              "    <tr>\n",
              "      <th>4</th>\n",
              "      <td>P-0000082</td>\n",
              "      <td>1</td>\n",
              "      <td>0</td>\n",
              "      <td>Non-Small Cell Lung Cancer</td>\n",
              "      <td>61</td>\n",
              "      <td>13.309864</td>\n",
              "      <td>0</td>\n",
              "      <td>0</td>\n",
              "      <td>0</td>\n",
              "      <td>0</td>\n",
              "      <td>...</td>\n",
              "      <td>0</td>\n",
              "      <td>0</td>\n",
              "      <td>0</td>\n",
              "      <td>0</td>\n",
              "      <td>0</td>\n",
              "      <td>0</td>\n",
              "      <td>0</td>\n",
              "      <td>0</td>\n",
              "      <td>0</td>\n",
              "      <td>0</td>\n",
              "    </tr>\n",
              "  </tbody>\n",
              "</table>\n",
              "<p>5 rows × 474 columns</p>\n",
              "</div>"
            ],
            "text/plain": [
              "  PATIENT_ID  OS_STATUS  SEX                 CANCER_TYPE  AGE_AT_SEQ_REPORT  \\\n",
              "0  P-0000057          0    1               Breast Cancer                 41   \n",
              "1  P-0000062          0    0      Esophagogastric Cancer                 80   \n",
              "2  P-0000063          1    0              Bladder Cancer                 62   \n",
              "3  P-0000071          1    0              Bladder Cancer                 66   \n",
              "4  P-0000082          1    0  Non-Small Cell Lung Cancer                 61   \n",
              "\n",
              "   TMB_NONSYNONYMOUS  PIK3CA  BARD1  MAP3K13  NOTCH4  ...  PPARG  MSI2  DUSP4  \\\n",
              "0           5.545777       1      1        1       1  ...      0     0      0   \n",
              "1           6.654932       0      0        0       0  ...      0     0      0   \n",
              "2          15.528174       0      0        0       0  ...      0     0      0   \n",
              "3           9.982398       0      0        0       0  ...      0     0      0   \n",
              "4          13.309864       0      0        0       0  ...      0     0      0   \n",
              "\n",
              "   RRAS2  ERF  HLA-B  RECQL  SESN1  NTHL1  RRAS  \n",
              "0      0    0      0      0      0      0     0  \n",
              "1      0    0      0      0      0      0     0  \n",
              "2      0    0      0      0      0      0     0  \n",
              "3      0    0      0      0      0      0     0  \n",
              "4      0    0      0      0      0      0     0  \n",
              "\n",
              "[5 rows x 474 columns]"
            ]
          },
          "execution_count": 165,
          "metadata": {},
          "output_type": "execute_result"
        }
      ],
      "source": [
        "df.head()"
      ],
      "id": "GJkBXxxIVDtD"
    },
    {
      "cell_type": "code",
      "execution_count": null,
      "metadata": {
        "id": "Qa9shfRrVDtD"
      },
      "outputs": [],
      "source": [
        "def multivar_regression(df, var_arr):\n",
        "    y= df.OS_STATUS #dependent variable is Decision\n",
        "#     x= df.loc[:, var_arr]\n",
        "    x = df[var_arr]\n",
        "    \n",
        "    # splitting the data\n",
        "    x_train, x_test, y_train, y_test = train_test_split(x,y, test_size= 0.2)\n",
        "#     x_train = x_train.values.reshape(-1, 1)\n",
        "#     x_test = x_test.values.reshape(-1, 1)\n",
        "    \n",
        "    #Implementing Logistic Regression using sklearn\n",
        "    modelLogistic = LogisticRegression(max_iter=1000)\n",
        "    modelLogistic.fit(x_train, y_train)\n",
        "    y_pred= modelLogistic.predict(x_test)\n",
        "    \n",
        "    #Creating confusion matrix\n",
        "    ConfusionMatrix = confusion_matrix(y_test, y_pred)\n",
        "    print(ConfusionMatrix)\n",
        "    #Accuracy from confusion matrix\n",
        "    TP= ConfusionMatrix[1,1] #True positive\n",
        "    TN= ConfusionMatrix[0,0] #True negative\n",
        "    Total=len(y_test)\n",
        "    print(\"Accuracy from confusion matrix is \", (TN+TP)/Total)"
      ],
      "id": "Qa9shfRrVDtD"
    },
    {
      "cell_type": "code",
      "execution_count": null,
      "metadata": {
        "id": "dGVJGuxOVDtE",
        "outputId": "945b1798-1ba4-49c6-cafa-89e722ad6ec4"
      },
      "outputs": [
        {
          "name": "stdout",
          "output_type": "stream",
          "text": [
            "[[34  5]\n",
            " [23  8]]\n",
            "Accuracy from confusion matrix is  0.6\n",
            "[[ 8 19]\n",
            " [ 2 35]]\n",
            "Accuracy from confusion matrix is  0.671875\n",
            "[[15  3]\n",
            " [ 6 19]]\n",
            "Accuracy from confusion matrix is  0.7906976744186046\n",
            "[[ 3 13]\n",
            " [ 1 14]]\n",
            "Accuracy from confusion matrix is  0.5483870967741935\n"
          ]
        }
      ],
      "source": [
        "multivar_regression(df_lung, va_lung)\n",
        "multivar_regression(df_skin, va_skin)\n",
        "multivar_regression(df_blad, va_blad)\n",
        "multivar_regression(df_rcc, va_rcc)"
      ],
      "id": "dGVJGuxOVDtE"
    },
    {
      "cell_type": "markdown",
      "metadata": {
        "id": "vXqxuCZoVDtE"
      },
      "source": [
        "# Multivariate logistic regression, pan-cancer: all variables as predictor"
      ],
      "id": "vXqxuCZoVDtE"
    },
    {
      "cell_type": "code",
      "execution_count": null,
      "metadata": {
        "id": "8eee85d4",
        "outputId": "325bd6e2-148c-4c51-ea3f-0ed39cadec35"
      },
      "outputs": [
        {
          "name": "stdout",
          "output_type": "stream",
          "text": [
            "(1660, 471)\n",
            "[[110  64]\n",
            " [ 75  83]]\n",
            "Accuracy from confusion matrix is  0.5813253012048193\n"
          ]
        }
      ],
      "source": [
        "### Multiple Logistic Regression Pan-Cancer, us\n",
        "\n",
        "# Define the independent and dependent variables\n",
        "y= df.OS_STATUS #dependent variable is Decision\n",
        "x= df.drop(['OS_STATUS','CANCER_TYPE','PATIENT_ID'], axis = 1)\n",
        "\n",
        "# splitting the data\n",
        "x_train, x_test, y_train, y_test = train_test_split(x,y, test_size= 0.2)\n",
        "print(x.shape)\n",
        "\n",
        "#Implementing Logistic Regression using sklearn\n",
        "modelLogistic = LogisticRegression(max_iter=1000)\n",
        "modelLogistic.fit(x_train, y_train)\n",
        "y_pred= modelLogistic.predict(x_test)\n",
        "\n",
        "#Creating confusion matrix\n",
        "ConfusionMatrix = confusion_matrix(y_test, y_pred)\n",
        "print(ConfusionMatrix)\n",
        "#Accuracy from confusion matrix\n",
        "TP= ConfusionMatrix[1,1] #True positive\n",
        "TN= ConfusionMatrix[0,0] #True negative\n",
        "Total=len(y_test)\n",
        "print(\"Accuracy from confusion matrix is \", (TN+TP)/Total)"
      ],
      "id": "8eee85d4"
    }
  ],
  "metadata": {
    "colab": {
      "provenance": []
    },
    "kernelspec": {
      "display_name": "Python 3",
      "language": "python",
      "name": "python3"
    },
    "language_info": {
      "codemirror_mode": {
        "name": "ipython",
        "version": 3
      },
      "file_extension": ".py",
      "mimetype": "text/x-python",
      "name": "python",
      "nbconvert_exporter": "python",
      "pygments_lexer": "ipython3",
      "version": "3.8.3"
    }
  },
  "nbformat": 4,
  "nbformat_minor": 5
}